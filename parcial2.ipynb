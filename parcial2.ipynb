{
  "nbformat": 4,
  "nbformat_minor": 0,
  "metadata": {
    "colab": {
      "provenance": [],
      "authorship_tag": "ABX9TyNUQsJXvQ9gkKGs9A+H+k7v",
      "include_colab_link": true
    },
    "kernelspec": {
      "name": "python3",
      "display_name": "Python 3"
    },
    "language_info": {
      "name": "python"
    }
  },
  "cells": [
    {
      "cell_type": "markdown",
      "metadata": {
        "id": "view-in-github",
        "colab_type": "text"
      },
      "source": [
        "<a href=\"https://colab.research.google.com/github/AndreaHerran/Problemas/blob/main/parcial2.ipynb\" target=\"_parent\"><img src=\"https://colab.research.google.com/assets/colab-badge.svg\" alt=\"Open In Colab\"/></a>"
      ]
    },
    {
      "cell_type": "code",
      "execution_count": 7,
      "metadata": {
        "id": "o96FYwK1Z9wV",
        "colab": {
          "base_uri": "https://localhost:8080/"
        },
        "outputId": "fd9ab50e-1b3d-425e-ae2d-99589db17d59"
      },
      "outputs": [
        {
          "output_type": "stream",
          "name": "stdout",
          "text": [
            "0.000856519999615557\n"
          ]
        }
      ],
      "source": [
        "import time\n",
        "inicio=time.perf_counter()\n",
        "class persona_Bin:\n",
        "  def __init__(self,edad,nombre):\n",
        "    self.nombre = nombre\n",
        "    self.edad = edad\n",
        "    self.mayor = []\n",
        "    self.menor = []\n",
        "  def tree2bin (tree):\n",
        "    if tree is None:\n",
        "        return None\n",
        "    root = persona_Bin(tree.data)\n",
        "    tree= tree.next\n",
        "    n= deque()\n",
        "    n.append(root)\n",
        "    while tree:\n",
        "        front = n.popleft()\n",
        "        front.left =persona_Bin(tree.data)\n",
        "        n.append(front.left)\n",
        "        tree= tree.next\n",
        "        if tree:\n",
        "            front.right = persona_Bin(tree.data)\n",
        "            n.append(front.right)\n",
        "            head = head.next\n",
        "    return root\n",
        "  def search(self,nombre,edad):\n",
        "    if self.edad==edad:\n",
        "      return self\n",
        "    elif edad >self.edad:\n",
        "      return self.der.search(edad)\n",
        "    elif edad < self.edad:\n",
        "      return self.izq.search(edad)\n",
        "    else:\n",
        "      return -1\n",
        "    if self.nombre==nombre:\n",
        "      return self\n",
        "    elif nombre >self.nombre:\n",
        "      return self.der.search(nombre)\n",
        "    elif nombre < self.nombre:\n",
        "      return self.izq.search(nombre)\n",
        "    else:\n",
        "      return -1\n",
        "fin=time.perf_counter()\n",
        "print(fin-inicio)\n"
      ]
    }
  ]
}